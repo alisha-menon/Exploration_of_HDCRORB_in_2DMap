{
 "cells": [
  {
   "cell_type": "code",
   "execution_count": 14,
   "metadata": {},
   "outputs": [],
   "source": [
    "import numpy as np\n",
    "import matplotlib.pyplot as plt\n",
    "from sklearn.decomposition import PCA\n",
    "import pickle\n",
    "import math\n",
    "from sklearn.manifold import TSNE\n",
    "pca = PCA(n_components=4)\n",
    "import scipy\n",
    "from sklearn.model_selection import train_test_split\n",
    "from scipy.special import softmax"
   ]
  },
  {
   "cell_type": "code",
   "execution_count": 2,
   "metadata": {},
   "outputs": [],
   "source": [
    "f = open('train_vectors.pckl', 'rb')\n",
    "train_vectors = pickle.load(f)\n",
    "f.close()\n",
    "\n",
    "f = open('train_actuators.pckl', 'rb')\n",
    "train_actuator_vectors = pickle.load(f)\n",
    "f.close()\n",
    "\n",
    "actuator_vecs = [train_actuator_vectors[0]]\n",
    "for v in train_actuator_vectors:\n",
    "    add = True\n",
    "    for a in actuator_vecs:\n",
    "        if all(a==v):\n",
    "            add = False\n",
    "            break\n",
    "    if add:\n",
    "        actuator_vecs.append(v)\n",
    "    if len(actuator_vecs) == 4:\n",
    "        break\n",
    "\n",
    "train_actuators = [[i for i in range(4) if all(actuator_vecs[i]==v)][0] for v in train_actuator_vectors]"
   ]
  },
  {
   "cell_type": "code",
   "execution_count": 3,
   "metadata": {},
   "outputs": [
    {
     "data": {
      "image/png": "[encoded data removed]",
      "text/plain": [
       "<Figure size 720x720 with 1 Axes>"
      ]
     },
     "metadata": {
      "needs_background": "light"
     },
     "output_type": "display_data"
    }
   ],
   "source": [
    "pca.fit(train_vectors, train_actuator_vectors)\n",
    "X_embedded = pca.fit_transform(train_vectors, train_actuator_vectors)\n",
    "\n",
    "fig,ax = plt.subplots(figsize=(10, 10))\n",
    "ax.scatter(X_embedded[:,0], X_embedded[:,1], c=train_actuators, marker='o')\n",
    "zipped = list(zip(X_embedded[:,0], X_embedded[:,1]))\n",
    "for i in range(len(train_actuators)):\n",
    "    ax.annotate(train_actuators[i], xy=zipped[i])"
   ]
  },
  {
   "cell_type": "code",
   "execution_count": 3,
   "metadata": {},
   "outputs": [],
   "source": [
    "import tensorflow as tf"
   ]
  },
  {
   "cell_type": "code",
   "execution_count": 62,
   "metadata": {},
   "outputs": [],
   "source": [
    "X_train, X_test, y_train, y_test = train_test_split(train_vectors, train_actuator_vectors, test_size=0.10)\n",
    "features = tf.convert_to_tensor(X_train, dtype='float32')\n",
    "labels = tf.convert_to_tensor(y_train, dtype='float32')"
   ]
  },
  {
   "cell_type": "code",
   "execution_count": 239,
   "metadata": {},
   "outputs": [],
   "source": [
    "input_size = features.shape[1]\n",
    "output_size = labels.shape[1]\n",
    "\n",
    "model = tf.keras.Sequential([\n",
    "    tf.keras.layers.Dense(250, activation=tf.nn.tanh, input_shape=(input_size,)),\n",
    "    tf.keras.layers.Dense(250, activation=tf.nn.tanh),\n",
    "    tf.keras.layers.Dense(output_size, activation=tf.nn.tanh)\n",
    "])\n",
    "\n",
    "model.compile(optimizer='adam',\n",
    "              loss=tf.keras.losses.cosine_similarity,\n",
    "              metrics=['accuracy'])"
   ]
  },
  {
   "cell_type": "code",
   "execution_count": 240,
   "metadata": {},
   "outputs": [
    {
     "name": "stdout",
     "output_type": "stream",
     "text": [
      "Epoch 1/3\n",
      "48/48 [==============================] - 1s 14ms/step - loss: -0.7164 - accuracy: 0.0000e+00\n",
      "Epoch 2/3\n",
      "48/48 [==============================] - 1s 14ms/step - loss: -0.9011 - accuracy: 0.0000e+00\n",
      "Epoch 3/3\n",
      "48/48 [==============================] - 1s 14ms/step - loss: -0.9088 - accuracy: 6.6225e-04\n"
     ]
    },
    {
     "data": {
      "text/plain": [
       "<tensorflow.python.keras.callbacks.History at 0x7fb8e7d2d710>"
      ]
     },
     "execution_count": 240,
     "metadata": {},
     "output_type": "execute_result"
    }
   ],
   "source": [
    "model.fit(features, labels, epochs = 3)"
   ]
  },
  {
   "cell_type": "code",
   "execution_count": 241,
   "metadata": {},
   "outputs": [],
   "source": [
    "features_test = tf.convert_to_tensor(X_test)\n",
    "preds = model.predict(features_test)"
   ]
  },
  {
   "cell_type": "code",
   "execution_count": 242,
   "metadata": {},
   "outputs": [
    {
     "data": {
      "text/plain": [
       "array([-0.13166659, -0.18643036, -0.19463807, ...,  0.19900778,\n",
       "       -0.18117815, -0.18257947], dtype=float32)"
      ]
     },
     "execution_count": 242,
     "metadata": {},
     "output_type": "execute_result"
    }
   ],
   "source": [
    "preds[0]"
   ]
  },
  {
   "cell_type": "code",
   "execution_count": 243,
   "metadata": {},
   "outputs": [
    {
     "data": {
      "text/plain": [
       "0.8988095238095238"
      ]
     },
     "execution_count": 243,
     "metadata": {},
     "output_type": "execute_result"
    }
   ],
   "source": [
    "correct = 0\n",
    "for i in range(len(y_test)):\n",
    "    ans = 0\n",
    "    while not all(actuator_vecs[ans]==y_test[i]):\n",
    "        ans+=1\n",
    "    bipolar_pred = [1 if x > 0 else -1 for x in preds[i]]\n",
    "    dists = np.matmul(actuator_vecs, bipolar_pred, dtype='float32')\n",
    "    if np.argmax(dists) == ans:\n",
    "        correct += 1\n",
    "#     else:\n",
    "#         print(cs, ans)\n",
    "correct/len(preds)"
   ]
  },
  {
   "cell_type": "code",
   "execution_count": 35,
   "metadata": {},
   "outputs": [
    {
     "name": "stdout",
     "output_type": "stream",
     "text": [
      "218\n",
      "388\n"
     ]
    }
   ],
   "source": [
    "for i in range(1000):\n",
    "    softmax_param = 7.79\n",
    "    sensor_in = X_test[0]\n",
    "    pred = model.predict(np.array([sensor_in,]))\n",
    "    dists = np.matmul(actuator_vecs, pred.T, dtype='float32')\n",
    "    probs = softmax(dists/np.max(dists) * softmax_param)\n",
    "\n",
    "    if np.random.choice(4, p = probs.flatten()) != 2:\n",
    "        print(i)"
   ]
  },
  {
   "cell_type": "code",
   "execution_count": 43,
   "metadata": {},
   "outputs": [
    {
     "data": {
      "text/plain": [
       "[<matplotlib.lines.Line2D at 0x7fba901af780>]"
      ]
     },
     "execution_count": 43,
     "metadata": {},
     "output_type": "execute_result"
    },
    {
     "data": {
      "image/png": "[encoded data removed]",
      "text/plain": [
       "<Figure size 432x288 with 1 Axes>"
      ]
     },
     "metadata": {
      "needs_background": "light"
     },
     "output_type": "display_data"
    }
   ],
   "source": [
    "plt.plot(softmax(np.linspace(-10, 10)*7.79))"
   ]
  },
  {
   "cell_type": "code",
   "execution_count": 47,
   "metadata": {},
   "outputs": [
    {
     "data": {
      "text/plain": [
       "[<matplotlib.lines.Line2D at 0x7fba8f590ba8>]"
      ]
     },
     "execution_count": 47,
     "metadata": {},
     "output_type": "execute_result"
    },
    {
     "data": {
      "image/png": "[encoded data removed]",
      "text/plain": [
       "<Figure size 432x288 with 1 Axes>"
      ]
     },
     "metadata": {
      "needs_background": "light"
     },
     "output_type": "display_data"
    }
   ],
   "source": [
    "plt.plot(softmax(np.linspace(-10, 10)*0.1))"
   ]
  },
  {
   "cell_type": "code",
   "execution_count": null,
   "metadata": {},
   "outputs": [],
   "source": []
  },
  {
   "cell_type": "code",
   "execution_count": null,
   "metadata": {},
   "outputs": [],
   "source": []
  },
  {
   "cell_type": "code",
   "execution_count": null,
   "metadata": {},
   "outputs": [],
   "source": []
  }
 ],
 "metadata": {
  "kernelspec": {
   "display_name": "Python 3",
   "language": "python",
   "name": "python3"
  },
  "language_info": {
   "codemirror_mode": {
    "name": "ipython",
    "version": 3
   },
   "file_extension": ".py",
   "mimetype": "text/x-python",
   "name": "python",
   "nbconvert_exporter": "python",
   "pygments_lexer": "ipython3",
   "version": "3.7.3"
  }
 },
 "nbformat": 4,
 "nbformat_minor": 2
}
